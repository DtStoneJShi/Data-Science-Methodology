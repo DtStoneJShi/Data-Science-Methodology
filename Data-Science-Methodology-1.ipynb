{
 "cells": [
  {
   "cell_type": "markdown",
   "metadata": {},
   "source": [
    "# Automatic Emails Classification "
   ]
  },
  {
   "cell_type": "markdown",
   "metadata": {},
   "source": [
    "The aim of this case study is to reinforce the concepts of each module of data science methodology. The case will revolve around the use case of emails calssification engine, which can automatically determine emails into defferent categories."
   ]
  },
  {
   "cell_type": "markdown",
   "metadata": {},
   "source": [
    "# Business Understanding"
   ]
  },
  {
   "cell_type": "markdown",
   "metadata": {},
   "source": [
    "**Problem description**"
   ]
  },
  {
   "cell_type": "markdown",
   "metadata": {},
   "source": [
    "In the business understanding stage, we will study whether we can develop an engine that can automatically determine the emails in a mail box into categories: 'Personal', or 'Promotion'. "
   ]
  },
  {
   "cell_type": "markdown",
   "metadata": {},
   "source": [
    "To this end, we need to investigate the content of the each email and try to filter out the some key words that indicate its category. For example, names in the contact list appears in the email would indicate a personal email, am email title from a retailer would indicate a promotion email."
   ]
  },
  {
   "cell_type": "markdown",
   "metadata": {},
   "source": [
    "**The question**"
   ]
  },
  {
   "cell_type": "markdown",
   "metadata": {},
   "source": [
    "In this case, the question that we defined is, \"Can we automatically determine the category of a given email based on its key words?\"."
   ]
  },
  {
   "cell_type": "markdown",
   "metadata": {},
   "source": [
    "## Analytic Approach"
   ]
  },
  {
   "cell_type": "markdown",
   "metadata": {},
   "source": [
    "At this stage, let's identify what type of patterns will be needed to address this question most effectively. We explore a machine learning algorithm, decision trees, and see if it is the right technique to automate the process of identifying the category of a given email while simultaneously providing us with some insight on why a given email is believed to belong to a certain category."
   ]
  },
  {
   "cell_type": "markdown",
   "metadata": {},
   "source": [
    "**Naive Tree**"
   ]
  },
  {
   "cell_type": "markdown",
   "metadata": {},
   "source": [
    "Starting at the top with all the emails in the inbox, if am email contains retialer name, then this decision tree would classify it as a 'Promotion' email. Otherwise, it would be classified as 'Personal' email."
   ]
  },
  {
   "cell_type": "markdown",
   "metadata": {},
   "source": [
    "Apparently, this is not a good tree because an email that contains a retailer name could be a personal. For example, the confirmation email of your order or registration on some purchases or transactions. Therefore, if an email contains 'Purchase-related' keywords, such as 'your order', 'card number','purchase policy', etc, could be determined as Personal."
   ]
  },
  {
   "cell_type": "markdown",
   "metadata": {},
   "source": [
    "**Improved Tree**"
   ]
  },
  {
   "cell_type": "markdown",
   "metadata": {},
   "source": [
    "To improve the tree, we use Retialer name in the first decision node, emails get divided into 'Retialer' and 'Non-Retialer'. 'Non-Retialer' is then further divided into 'Promotion' and 'Personal' based on the Purchase-Related Keywords. This process of splitting leaf nodes continues until each leaf node is pure, i.e., containing emails belonging to only one category."
   ]
  },
  {
   "cell_type": "markdown",
   "metadata": {},
   "source": [
    "## Data Requirements"
   ]
  },
  {
   "cell_type": "markdown",
   "metadata": {},
   "source": [
    "The chosen analytic approach determines the data requirements. Specifically, the analytic methods to be used require certain data content, formats and representations, guided by domain knowledge. Using decision tree as our analytic approach, it can handle both numeric or categoric features. "
   ]
  },
  {
   "cell_type": "markdown",
   "metadata": {},
   "source": [
    "In order to build a model, we need extensive data of different emails and its label as 'Personal' or 'Promotion'. Identifying the required data fulfills the data requirements stage of the data science methodology."
   ]
  },
  {
   "cell_type": "markdown",
   "metadata": {},
   "source": [
    "## Data Collection"
   ]
  },
  {
   "cell_type": "markdown",
   "metadata": {},
   "source": [
    "In the initial data collection stage, data scientists identify and gather the available data resources. These can be in the form of structured, unstructured, and even semi-structured data relevant to the problem domain."
   ]
  },
  {
   "cell_type": "markdown",
   "metadata": {},
   "source": [
    "Luckliy, the gmail inbox provide data category as 'Promary' or 'Personal' and 'Promotion'. We can use our own gmail account information. Otherwise, there are some email database on the web, such as, Database Marketing that provide over 46 million business addresses."
   ]
  },
  {
   "cell_type": "markdown",
   "metadata": {},
   "source": [
    "http://www.emaildatabase.marketing/email-database/"
   ]
  },
  {
   "cell_type": "markdown",
   "metadata": {},
   "source": [
    "The list of emails covers all necessary communication information like title, name, geography, industry type, email address, marital status and much more. "
   ]
  },
  {
   "cell_type": "markdown",
   "metadata": {},
   "source": [
    "## Data Understanding and Preparation"
   ]
  },
  {
   "cell_type": "markdown",
   "metadata": {},
   "source": [
    "**Data Understanding**"
   ]
  },
  {
   "cell_type": "markdown",
   "metadata": {},
   "source": [
    "In this stage, I would first download the email dataset from the data collection stage, and convert the dataset into data frame to process with Python. After that, I will explore the data in the following steps:\n",
    "\n",
    "1. Look up the head 10 lines of the data containing all the columns. \n",
    "2. Check the dimension of the dataset, to have an idea of the number of samples and attributes.\n",
    "3. Check the type of data in each columns, to know whether it is numerical or categorical.\n",
    "4. Check the statistics of the numerical attributes, to know the maximum, minimum, mean, and deviation.\n",
    "5. Plot the histogram of the categorical attributes, to know the distribution across all the types.\n",
    "\n",
    "Through the above steps, we will get a basic understanding of the dataset."
   ]
  },
  {
   "cell_type": "markdown",
   "metadata": {},
   "source": [
    "**Data preparation**"
   ]
  },
  {
   "cell_type": "markdown",
   "metadata": {},
   "source": [
    "We now prepare data for modeling. This stage involves exploring the data further and making sure that it is in the right format for the machine learning algorithm that we selected in the analytic approach stage, which is decision trees."
   ]
  },
  {
   "cell_type": "markdown",
   "metadata": {},
   "source": [
    "Prepare data in the following steps:\n",
    "\n",
    "1. Handle missing values. If there is just a few missing values, delete the samples or replace with mean values. If there is large amount of missing value, delete the attribute to avoid noise and overfitting.\n",
    "2. Cast the data type of each columns into uniform type, either number or object string.\n",
    "3. If the column is of type string, correct the strings into uniform format.\n",
    "4. If the attribute contains various continuous values, segment the values into a few partitions.\n",
    "5. Encode categorical attributes into numerical values, e.g., map [personal, promotion] to [1,0]\n",
    "6. Study the correlation of each attributes pairs. Choose from one of the attributes if the correlation is close to one to avoid redundant computation.\n",
    "7. Select the top 3 most frequent keywords contained in either the title and content of emails.\n",
    "8. Apply one-hot encoding to all the possible keywords across all samples, as new features for our model.\n",
    "\n",
    "At this point, we feel that we have understood the data well and the data is ready and is in the right format for modeling!"
   ]
  },
  {
   "cell_type": "markdown",
   "metadata": {},
   "source": [
    "## Modeling and Evaluation"
   ]
  },
  {
   "cell_type": "markdown",
   "metadata": {},
   "source": [
    "**Data modeling**"
   ]
  },
  {
   "cell_type": "markdown",
   "metadata": {},
   "source": [
    "Here we model the decision tree to conduct binary decisions using the features and target labels determined in the data preparation stages. "
   ]
  },
  {
   "cell_type": "markdown",
   "metadata": {},
   "source": [
    "At this point, we initialize a decision tree with maximum depth, and fit this tree with the features of the entire dataset and its category labels. We can plot the tree structure and analyze the branches of the tree to come up with rules how attributes are deployed to determined the type of emails."
   ]
  },
  {
   "cell_type": "markdown",
   "metadata": {},
   "source": [
    "**Model evaluation**"
   ]
  },
  {
   "cell_type": "markdown",
   "metadata": {},
   "source": [
    "To evaluate our model, we will split our dataset into a training set and a test set in the following steps:\n",
    "\n",
    "1. We will build the decision tree using the training set and its corresponding labels. \n",
    "\n",
    "2. Then, we will test the model on the test set and compare the category that the model predicts to the actual category. \n",
    "\n",
    "3. To quantify how well the decision tree is able to determine the category of emails correctly, we will create a confusion matrix which presents a nice summary on how many emails from either 'Personal' or 'Promotion' type are correctly classified. It also sheds some light on what emails are being confused with what the other type of emails.\n",
    "\n",
    "4. Furthermore, we can quantify the overall performance of the tree by deriving the Jaccard accuracy.\n",
    "\n",
    "5. To select the best parameters for the weights of the attributes, we can draw ROC curve and determine the best tree to be the point that divers the most from the diagonal line of the ROC box.\n",
    "\n",
    "6. Tune the parameters of the tree using grid search, and select the set of parameters that gains the highest accuracy.\n",
    "\n",
    "7. After obtaining the best tree, we train the tree again with the entire dataset.\n",
    "\n",
    "The above steps conclude the model evaluation stage."
   ]
  }
 ],
 "metadata": {
  "kernelspec": {
   "display_name": "Python 3",
   "language": "python",
   "name": "python3"
  },
  "language_info": {
   "codemirror_mode": {
    "name": "ipython",
    "version": 3
   },
   "file_extension": ".py",
   "mimetype": "text/x-python",
   "name": "python",
   "nbconvert_exporter": "python",
   "pygments_lexer": "ipython3",
   "version": "3.6.8"
  }
 },
 "nbformat": 4,
 "nbformat_minor": 2
}
